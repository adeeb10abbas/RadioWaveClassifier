{
 "cells": [
  {
   "cell_type": "code",
   "execution_count": 1,
   "metadata": {},
   "outputs": [],
   "source": [
    "%matplotlib widget\n",
    "from ipywidgets import interact, interactive, fixed, interact_manual\n",
    "import matplotlib.pyplot as plt\n",
    "import numpy as np\n",
    "import pandas as pd\n",
    "\n",
    "import tensorflow as tf\n",
    "import os\n",
    "import modrec.radioml\n",
    "import modrec.preprocessing"
   ]
  },
  {
   "cell_type": "code",
   "execution_count": 2,
   "metadata": {},
   "outputs": [],
   "source": [
    "# classes, data = modrec.radioml.load_numpy('../data/2016.10a.h5')\n",
    "dataset_name = '2016.10a'\n",
    "seed = 2016\n",
    "\n",
    "classes, data = modrec.radioml.load_numpy(os.path.join('../data/', dataset_name + '.h5')) \n",
    "# train, validate, test = modrec.training.split_training(data, 0.5, 0.5)"
   ]
  },
  {
   "cell_type": "code",
   "execution_count": 3,
   "metadata": {},
   "outputs": [
    {
     "data": {
      "text/plain": [
       "array([[-5.90147125e-03, -2.34581786e-03, -7.45061261e-04,\n",
       "        -5.34572452e-03, -5.78941777e-03, -3.69683490e-03,\n",
       "        -4.97868750e-03, -6.56572822e-03, -9.04932246e-03,\n",
       "        -4.83668642e-03, -1.00837136e-02, -4.53815702e-03,\n",
       "        -4.31498839e-03, -5.13423281e-03, -6.07567281e-03,\n",
       "         1.18665886e-03, -4.65670088e-03, -6.95332745e-03,\n",
       "        -6.66823424e-03, -6.43977243e-03, -3.82532272e-03,\n",
       "        -8.38821847e-03, -1.01344110e-02, -6.90073194e-03,\n",
       "        -9.62839276e-03, -1.55354582e-03, -2.88469438e-03,\n",
       "        -4.51788818e-03,  3.41027649e-03,  7.41052255e-03,\n",
       "         3.35769332e-03,  7.62627879e-03,  8.82679410e-03,\n",
       "         3.42824613e-03,  1.84083998e-03,  6.41621463e-03,\n",
       "        -1.63305740e-04, -2.24135863e-03, -5.19226259e-03,\n",
       "        -3.63920978e-03, -1.01316329e-02, -6.39987178e-03,\n",
       "        -6.06458448e-03, -7.66557641e-03, -3.44835571e-03,\n",
       "         4.42530581e-04,  2.56719789e-03,  4.74519981e-03,\n",
       "         4.66336496e-03,  6.47741836e-03,  8.53952859e-03,\n",
       "         4.98457067e-03,  1.83550685e-04,  2.53180624e-04,\n",
       "        -2.90070497e-03, -5.35907457e-03, -9.30814818e-03,\n",
       "        -5.05294139e-03, -4.83987946e-03,  1.17973956e-04,\n",
       "        -5.48875541e-04,  8.79733358e-04,  6.80832937e-03,\n",
       "         8.02225806e-03,  8.17798451e-03,  6.84361206e-03,\n",
       "         3.34831537e-03,  2.62019620e-03, -2.50967545e-03,\n",
       "        -6.09290495e-04, -8.00378062e-03, -1.06874220e-02,\n",
       "        -8.18693638e-03, -9.52030625e-03, -4.64970525e-03,\n",
       "        -1.15614315e-03,  2.20692437e-03,  4.98547312e-03,\n",
       "         2.16765120e-03,  6.35635434e-03,  1.04583083e-02,\n",
       "         7.48503441e-03,  6.23615831e-03,  2.93730758e-03,\n",
       "         1.16433017e-03,  2.31683560e-04, -4.89262352e-03,\n",
       "        -3.32372938e-03, -6.60865707e-03, -4.91313590e-03,\n",
       "        -7.29229115e-03, -6.01531472e-03, -1.28758221e-03,\n",
       "         4.22199519e-04,  2.63322057e-04,  3.07579036e-03,\n",
       "         3.98740964e-03,  3.42952716e-03,  2.69522471e-03,\n",
       "         7.13837426e-03,  6.24447502e-03,  6.12162845e-03,\n",
       "         5.42381825e-03,  1.00702723e-03,  9.82678146e-04,\n",
       "         1.36985769e-03,  3.53600271e-03,  4.30495711e-03,\n",
       "         8.39837268e-03,  8.00060481e-03,  6.66820211e-03,\n",
       "         8.24876036e-03,  6.43996848e-03,  1.07639674e-02,\n",
       "         6.80366065e-03,  2.71986006e-03,  6.70633817e-05,\n",
       "         2.20027729e-03,  9.56511474e-04, -1.03281380e-03,\n",
       "        -5.32025425e-03, -7.41181010e-03, -7.29165785e-03,\n",
       "         1.09607929e-04, -3.40843061e-03, -3.26823536e-03,\n",
       "        -3.04144341e-03,  5.69031201e-03],\n",
       "       [-7.79554341e-03, -7.81637430e-03, -4.01966693e-03,\n",
       "        -5.11350809e-03, -5.93952276e-03, -6.56990008e-03,\n",
       "        -5.58479084e-03, -5.29769063e-03,  2.10239770e-04,\n",
       "        -6.04724884e-03, -7.05299387e-03, -7.68376375e-03,\n",
       "        -6.82943454e-03, -5.26323123e-03, -4.28441120e-03,\n",
       "        -8.23529437e-03, -8.87948647e-03, -6.65624905e-03,\n",
       "        -8.73264484e-03, -4.15312545e-03, -8.15828983e-03,\n",
       "        -6.02711225e-03, -1.29826628e-02, -6.86788373e-03,\n",
       "        -6.74923463e-03, -4.03721631e-03, -7.78408628e-03,\n",
       "        -5.31384535e-03,  3.21187358e-03, -5.00479387e-03,\n",
       "         1.21510553e-03,  7.24387297e-04,  4.43488779e-03,\n",
       "         8.31250008e-03,  8.83207936e-03,  5.92549751e-03,\n",
       "         8.33821017e-03,  7.18796719e-03,  8.16119369e-03,\n",
       "         8.70451611e-03,  6.50418410e-03,  4.39436361e-03,\n",
       "         2.82485667e-03,  2.16366793e-03,  5.20329364e-03,\n",
       "         7.40603730e-03,  5.30307589e-04,  5.02638612e-03,\n",
       "         4.79635131e-03,  8.92056711e-03,  7.27958838e-03,\n",
       "         4.10888717e-03, -1.64091331e-03,  3.21661792e-04,\n",
       "        -4.35043173e-03, -5.34027210e-03, -6.72172802e-03,\n",
       "        -4.10642568e-03, -5.31335222e-03, -4.56618797e-03,\n",
       "        -4.76121577e-03, -2.62099039e-03,  2.64574075e-03,\n",
       "         7.91667867e-03,  8.10154900e-03,  8.56091641e-03,\n",
       "         5.86885307e-03,  9.08290315e-03,  2.78104120e-03,\n",
       "        -4.58178995e-03, -7.84578675e-04,  1.90194871e-03,\n",
       "        -5.14773373e-03, -9.67547111e-03, -7.38797616e-03,\n",
       "        -8.74937605e-03, -4.41817427e-03, -1.72313442e-03,\n",
       "        -3.09234415e-03, -8.44296359e-04,  7.02607492e-03,\n",
       "         9.47602745e-03,  3.66653665e-03,  9.18463711e-03,\n",
       "         4.36038384e-03,  8.22377671e-03,  8.38071760e-03,\n",
       "         7.23750377e-03,  3.06395115e-03,  7.47481966e-03,\n",
       "         2.92272819e-03,  5.05259214e-03,  3.31492280e-04,\n",
       "         9.30912420e-03,  4.62912722e-03,  6.58604736e-03,\n",
       "         5.48608275e-03,  6.39372645e-03,  5.06807957e-03,\n",
       "         5.56591107e-03,  6.81962399e-03,  9.10460111e-03,\n",
       "         8.39264598e-03,  8.71987082e-03,  1.01424716e-02,\n",
       "         7.58514786e-03,  4.81515424e-03,  5.65553736e-03,\n",
       "         2.65674363e-03, -2.35611829e-03, -5.01084095e-03,\n",
       "        -2.79374560e-03, -4.82371496e-03, -4.45631938e-03,\n",
       "        -2.13764841e-03, -1.70917076e-03, -2.75444356e-03,\n",
       "        -2.13405839e-03, -3.32542462e-04, -5.56470884e-04,\n",
       "         8.08902271e-03,  6.66311011e-03,  7.31658423e-03,\n",
       "         5.54266246e-03,  5.34808449e-03,  1.03219617e-02,\n",
       "         8.41505732e-03,  5.44548174e-03]], dtype=float32)"
      ]
     },
     "execution_count": 3,
     "metadata": {},
     "output_type": "execute_result"
    }
   ],
   "source": [
    "data['iq_data'][0]"
   ]
  },
  {
   "cell_type": "code",
   "execution_count": 4,
   "metadata": {},
   "outputs": [
    {
     "data": {
      "application/vnd.jupyter.widget-view+json": {
       "model_id": "bdc6fb873cfe4b88aa249a0ee846f2eb",
       "version_major": 2,
       "version_minor": 0
      },
      "text/plain": [
       "Canvas(toolbar=Toolbar(toolitems=[('Home', 'Reset original view', 'home', 'home'), ('Back', 'Back to previous …"
      ]
     },
     "metadata": {},
     "output_type": "display_data"
    },
    {
     "data": {
      "application/vnd.jupyter.widget-view+json": {
       "model_id": "b810d6bc304041b4b0826b6d148eb551",
       "version_major": 2,
       "version_minor": 0
      },
      "text/plain": [
       "interactive(children=(IntSlider(value=109999, description='i', max=219999), Dropdown(description='func', optio…"
      ]
     },
     "metadata": {},
     "output_type": "display_data"
    },
    {
     "data": {
      "text/plain": [
       "<function __main__.iplot.<locals>.f(i, func)>"
      ]
     },
     "execution_count": 4,
     "metadata": {},
     "output_type": "execute_result"
    }
   ],
   "source": [
    "import modrec.preprocessing\n",
    "\n",
    "def plot(fig, im_ax, psd_ax, iq, func='outer', title=None):\n",
    "    if func == 'outer':\n",
    "        im = modrec.preprocessing.preprocess_outer(iq)\n",
    "    elif func == 'gasf':\n",
    "        im = modrec.preprocessing.preprocess_gasf(iq)\n",
    "    else:\n",
    "        im = modrec.preprocessing.preprocess_gadf(iq)\n",
    "\n",
    "    im_ax.imshow(im)\n",
    "    psd_ax.psd(iq[0] + 1j*iq[1])\n",
    "    if title:\n",
    "        fig.suptitle(title)\n",
    "\n",
    "def iplot():\n",
    "    plot_data = data #[data['snr'] == 18]\n",
    "\n",
    "    fig, (im_ax, psd_ax) = plt.subplots(ncols=2, figsize=(8,4))\n",
    "\n",
    "    def f(i, func):\n",
    "        im_ax.clear()\n",
    "        psd_ax.clear()\n",
    "        title = f\"{classes[plot_data[i]['ms']]:} (SNR {plot_data[i]['snr']:})\"\n",
    "        plot(fig, im_ax, psd_ax, plot_data['iq_data'][i], func=func, title=title)\n",
    "\n",
    "    return interact(f, i=(0, len(plot_data) - 1), func=['outer', 'gasf', 'gadf'])\n",
    "\n",
    "iplot()"
   ]
  },
  {
   "cell_type": "code",
   "execution_count": null,
   "metadata": {},
   "outputs": [],
   "source": [
    "sample = data['iq_data'][0]\n",
    "sample.shape"
   ]
  },
  {
   "cell_type": "code",
   "execution_count": null,
   "metadata": {},
   "outputs": [],
   "source": [
    "\n"
   ]
  },
  {
   "cell_type": "code",
   "execution_count": null,
   "metadata": {},
   "outputs": [],
   "source": [
    "data['iq_data'][0]"
   ]
  },
  {
   "cell_type": "code",
   "execution_count": null,
   "metadata": {},
   "outputs": [],
   "source": [
    "def noisy_plot(sample):\n",
    "    t = []\n",
    "    for i in range(128):\n",
    "        t.append(i)\n",
    "    plt.plot(t, sample[0])\n",
    "    plt.plot(t, sample[1])\n",
    "    xmax = 128\n",
    "    ymax = max([max(sample[0]),max(sample[1])])\n",
    "    plt.xticks([])\n",
    "    plt.yticks([])\n",
    "    plt.show()\n",
    "    \n",
    "\n",
    "import numpy as np\n",
    "import matplotlib.pyplot as plt\n",
    "import numpy as np\n",
    "import pandas as pd\n",
    "\n",
    "import tensorflow as tf\n",
    "\n",
    "import modrec.radioml\n",
    "import modrec.preprocessing\n",
    "\n",
    "classes, data = modrec.radioml.load_numpy('../data/2016.10a.h5')\n",
    "sample = data['iq_data'][0].copy()\n",
    "\n",
    "def DN(ts, sigma=0.05, mu=1.0, alpha=1.0, random_seed=2016):\n",
    "    '''\n",
    "    ts: np.array, time series data\n",
    "    sigma: float, standard deviation of the noise distribution\n",
    "    mu: float, mean of the noise distribution\n",
    "    alpha: float, the ratio of changes (new_value = alpha * delta + original_value)\n",
    "    random_seed: int, set numpy random seed\n",
    "    '''\n",
    "    if random_seed:\n",
    "        np.random.seed(random_seed)\n",
    "    \n",
    "    ts_length = ts.shape[1]\n",
    "    Ndist = sigma * np.random.randn(ts_length) + mu\n",
    "    for i,v in enumerate(ts):\n",
    "        ts[i] = alpha * Ndist[i] + v #new_value = alpha * delta + original_value\n",
    "    return ts\n",
    "noisy_plot(DN(sample))\n"
   ]
  },
  {
   "cell_type": "code",
   "execution_count": null,
   "metadata": {},
   "outputs": [],
   "source": [
    "noisy_plot(data['iq_data'][0])"
   ]
  },
  {
   "cell_type": "code",
   "execution_count": null,
   "metadata": {},
   "outputs": [],
   "source": [
    "data['snr'][0]"
   ]
  },
  {
   "cell_type": "code",
   "execution_count": null,
   "metadata": {},
   "outputs": [],
   "source": []
  }
 ],
 "metadata": {
  "kernelspec": {
   "display_name": "tf2",
   "language": "python",
   "name": "tf2"
  },
  "language_info": {
   "codemirror_mode": {
    "name": "ipython",
    "version": 3
   },
   "file_extension": ".py",
   "mimetype": "text/x-python",
   "name": "python",
   "nbconvert_exporter": "python",
   "pygments_lexer": "ipython3",
   "version": "3.8.5"
  }
 },
 "nbformat": 4,
 "nbformat_minor": 2
}
