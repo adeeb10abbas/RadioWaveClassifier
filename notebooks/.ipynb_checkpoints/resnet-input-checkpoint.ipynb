{
 "cells": [
  {
   "cell_type": "code",
   "execution_count": 1,
   "metadata": {},
   "outputs": [],
   "source": [
    "%matplotlib widget\n",
    "from ipywidgets import interact, interactive, fixed, interact_manual\n",
    "import matplotlib.pyplot as plt\n",
    "import numpy as np\n",
    "import pandas as pd\n",
    "\n",
    "import tensorflow as tf\n",
    "import os\n",
    "import modrec.radioml\n",
    "import modrec.preprocessing"
   ]
  },
  {
   "cell_type": "code",
   "execution_count": 2,
   "metadata": {},
   "outputs": [],
   "source": [
    "# classes, data = modrec.radioml.load_numpy('../data/2016.10a.h5')\n",
    "dataset_name = '2016.10a'\n",
    "seed = 2016\n",
    "\n",
    "classes, data = modrec.radioml.load_numpy(os.path.join('../data/', dataset_name + '.h5')) \n",
    "# train, validate, test = modrec.training.split_training(data, 0.5, 0.5)"
   ]
  },
  {
   "cell_type": "code",
   "execution_count": null,
   "metadata": {},
   "outputs": [],
   "source": [
    "data['iq_data'][0]"
   ]
  },
  {
   "cell_type": "code",
   "execution_count": 3,
   "metadata": {},
   "outputs": [
    {
     "data": {
      "application/vnd.jupyter.widget-view+json": {
       "model_id": "b20c48806932472ebe028e0c6b9fc57a",
       "version_major": 2,
       "version_minor": 0
      },
      "text/plain": [
       "Canvas(toolbar=Toolbar(toolitems=[('Home', 'Reset original view', 'home', 'home'), ('Back', 'Back to previous …"
      ]
     },
     "metadata": {},
     "output_type": "display_data"
    },
    {
     "data": {
      "application/vnd.jupyter.widget-view+json": {
       "model_id": "47b0fb00bbc541c38e0c8a9b62931dd5",
       "version_major": 2,
       "version_minor": 0
      },
      "text/plain": [
       "interactive(children=(IntSlider(value=109999, description='i', max=219999), Dropdown(description='func', optio…"
      ]
     },
     "metadata": {},
     "output_type": "display_data"
    },
    {
     "data": {
      "text/plain": [
       "<function __main__.iplot.<locals>.f(i, func)>"
      ]
     },
     "execution_count": 3,
     "metadata": {},
     "output_type": "execute_result"
    }
   ],
   "source": [
    "import modrec.preprocessing\n",
    "\n",
    "def plot(fig, im_ax, psd_ax, iq, func='outer', title=None):\n",
    "    if func == 'outer':\n",
    "        im = modrec.preprocessing.preprocess_outer(iq)\n",
    "    elif func == 'gasf':\n",
    "        im = modrec.preprocessing.preprocess_gasf(iq)\n",
    "    else:\n",
    "        im = modrec.preprocessing.preprocess_gadf(iq)\n",
    "\n",
    "    im_ax.imshow(im)\n",
    "    psd_ax.psd(iq[0] + 1j*iq[1])\n",
    "    if title:\n",
    "        fig.suptitle(title)\n",
    "\n",
    "def iplot():\n",
    "    plot_data = data #[data['snr'] == 18]\n",
    "\n",
    "    fig, (im_ax, psd_ax) = plt.subplots(ncols=2, figsize=(8,4))\n",
    "\n",
    "    def f(i, func):\n",
    "        im_ax.clear()\n",
    "        psd_ax.clear()\n",
    "        title = f\"{classes[plot_data[i]['ms']]:} (SNR {plot_data[i]['snr']:})\"\n",
    "        plot(fig, im_ax, psd_ax, plot_data['iq_data'][i], func=func, title=title)\n",
    "\n",
    "    return interact(f, i=(0, len(plot_data) - 1), func=['outer', 'gasf', 'gadf'])\n",
    "\n",
    "iplot()"
   ]
  },
  {
   "cell_type": "code",
   "execution_count": null,
   "metadata": {},
   "outputs": [],
   "source": [
    "sample = data['iq_data'][0]\n",
    "sample.shape"
   ]
  },
  {
   "cell_type": "code",
   "execution_count": null,
   "metadata": {},
   "outputs": [],
   "source": [
    "\n"
   ]
  },
  {
   "cell_type": "code",
   "execution_count": null,
   "metadata": {},
   "outputs": [],
   "source": [
    "data['iq_data'][0]"
   ]
  },
  {
   "cell_type": "code",
   "execution_count": null,
   "metadata": {},
   "outputs": [],
   "source": [
    "def noisy_plot(sample):\n",
    "    t = []\n",
    "    for i in range(128):\n",
    "        t.append(i)\n",
    "    plt.plot(t, sample[0])\n",
    "    plt.plot(t, sample[1])\n",
    "    xmax = 128\n",
    "    ymax = max([max(sample[0]),max(sample[1])])\n",
    "    plt.xticks([])\n",
    "    plt.yticks([])\n",
    "    plt.show()\n",
    "    \n",
    "\n",
    "import numpy as np\n",
    "import matplotlib.pyplot as plt\n",
    "import numpy as np\n",
    "import pandas as pd\n",
    "\n",
    "import tensorflow as tf\n",
    "\n",
    "import modrec.radioml\n",
    "import modrec.preprocessing\n",
    "\n",
    "classes, data = modrec.radioml.load_numpy('../data/2016.10a.h5')\n",
    "sample = data['iq_data'][0].copy()\n",
    "\n",
    "def DN(ts, sigma=0.05, mu=1.0, alpha=1.0, random_seed=2016):\n",
    "    '''\n",
    "    ts: np.array, time series data\n",
    "    sigma: float, standard deviation of the noise distribution\n",
    "    mu: float, mean of the noise distribution\n",
    "    alpha: float, the ratio of changes (new_value = alpha * delta + original_value)\n",
    "    random_seed: int, set numpy random seed\n",
    "    '''\n",
    "    if random_seed:\n",
    "        np.random.seed(random_seed)\n",
    "    \n",
    "    ts_length = ts.shape[1]\n",
    "    Ndist = sigma * np.random.randn(ts_length) + mu\n",
    "    for i,v in enumerate(ts):\n",
    "        ts[i] = alpha * Ndist[i] + v #new_value = alpha * delta + original_value\n",
    "    return ts\n",
    "noisy_plot(DN(sample))\n"
   ]
  },
  {
   "cell_type": "code",
   "execution_count": null,
   "metadata": {},
   "outputs": [],
   "source": [
    "noisy_plot(data['iq_data'][0])"
   ]
  },
  {
   "cell_type": "code",
   "execution_count": null,
   "metadata": {},
   "outputs": [],
   "source": [
    "data['snr'][0]"
   ]
  },
  {
   "cell_type": "code",
   "execution_count": null,
   "metadata": {},
   "outputs": [],
   "source": []
  }
 ],
 "metadata": {
  "kernelspec": {
   "display_name": "tf2",
   "language": "python",
   "name": "tf2"
  },
  "language_info": {
   "codemirror_mode": {
    "name": "ipython",
    "version": 3
   },
   "file_extension": ".py",
   "mimetype": "text/x-python",
   "name": "python",
   "nbconvert_exporter": "python",
   "pygments_lexer": "ipython3",
   "version": "3.8.5"
  }
 },
 "nbformat": 4,
 "nbformat_minor": 2
}
