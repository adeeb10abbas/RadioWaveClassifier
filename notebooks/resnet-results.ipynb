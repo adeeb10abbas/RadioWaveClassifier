{
 "cells": [
  {
   "cell_type": "code",
   "execution_count": 12,
   "metadata": {},
   "outputs": [],
   "source": [
    "%matplotlib widget\n",
    "from ipywidgets import interact, interactive, fixed, interact_manual\n",
    "import matplotlib.pyplot as plt\n",
    "import numpy as np\n",
    "import pandas as pd\n",
    "import os\n",
    "import modrec.radioml\n",
    "import modrec.training"
   ]
  },
  {
   "cell_type": "code",
   "execution_count": 5,
   "metadata": {},
   "outputs": [],
   "source": [
    "seed  =  2016\n",
    "dataset_name = \"2016.10a\""
   ]
  },
  {
   "cell_type": "code",
   "execution_count": 10,
   "metadata": {},
   "outputs": [],
   "source": [
    "modrec.training.set_seed(seed)\n",
    "classes, data = modrec.radioml.load_numpy(os.path.join('../data/', dataset_name + '.h5')) \n",
    "train, validate, test = modrec.training.split_training(data, 0.5, 0.5)\n",
    "# models = ['vtcnn2', 'resnet18-outer', 'resnet18-gasf', 'resnet18-gadf']\n",
    "models = ['resnet18-noisy-outer']\n",
    "df = pd.DataFrame()\n",
    "df['ms'] = validate['ms']\n",
    "df['snr'] = validate['snr']\n",
    "\n",
    "for model_name in models:\n",
    "    \n",
    "    trainer = modrec.training.Trainer('../models', dataset_name, model_name, seed)\n",
    "    \n",
    "    df['ms_' + model_name] = list(np.argmax(trainer.load_predictions(), axis=1))"
   ]
  },
  {
   "cell_type": "code",
   "execution_count": null,
   "metadata": {},
   "outputs": [],
   "source": [
    "import pickle\n",
    "# file = open(\"/home/aa4239/modrec/models/history/2016.10b/resnet18-outer/2016.pkl\", \"rb\")\n",
    "# history = pickle.load(file)\n",
    "# # print(history['acc'])\n",
    "# import os\n",
    "\n",
    "scores = {} # scores is an empty dict already\n",
    "#'0.7drp_2016b'\n",
    "for i in ['0.5drp_2016b', '0.7drp_2016b']:\n",
    "    target = f\"/home/aa4239/modrec/{i}/history/2016.10b/resnet18-outer/2016.pkl\"\n",
    "    if os.path.getsize(target) > 0:      \n",
    "        with open(target, \"rb\") as f:\n",
    "            # if file is not empty scores will be equal\n",
    "            # to the value unpickled\n",
    "            scores = pickle.load(f)\n",
    "            epochs = range(1,len(scores[0]['accuracy'])+1)\n",
    "            plt.plot(epochs, scores[0]['accuracy'], label=\"Training accuracy\"+ str(i))\n",
    "            plt.plot(epochs, scores[0]['val_accuracy'], label=\"Validation accuracy\"+ str(i))\n",
    "            plt.title('Training and Validation accuracy on 2016b using resnet18-outer')\n",
    "            plt.xlabel('Epochs')\n",
    "            plt.ylabel('Accuracy')\n",
    "            plt.legend()\n",
    "            plt.savefig(\"sample.png\")\n",
    "\n",
    "        \n",
    "\n",
    "# print(scores[0]['accuracy'])"
   ]
  },
  {
   "cell_type": "code",
   "execution_count": 1,
   "metadata": {},
   "outputs": [
    {
     "data": {
      "image/png": "[encoded data removed]",
      "text/plain": [
       "<Figure size 432x288 with 1 Axes>"
      ]
     },
     "metadata": {
      "needs_background": "light"
     },
     "output_type": "display_data"
    },
    {
     "data": {
      "application/vnd.jupyter.widget-view+json": {
       "model_id": "e366623a595142d187a51e5af31f19b6",
       "version_major": 2,
       "version_minor": 0
      },
      "text/plain": [
       "interactive(children=(IntSlider(value=9, description='i', max=19), Dropdown(description='model_name', options=…"
      ]
     },
     "metadata": {},
     "output_type": "display_data"
    },
    {
     "data": {
      "text/plain": [
       "<function __main__.interactive_confusion_matrix.<locals>.f(i, model_name)>"
      ]
     },
     "execution_count": 1,
     "metadata": {},
     "output_type": "execute_result"
    }
   ],
   "source": [
    "from ipywidgets import interact, interactive, fixed, interact_manual\n",
    "import matplotlib.pyplot as plt\n",
    "import numpy as np\n",
    "import pandas as pd\n",
    "import os\n",
    "import modrec.radioml\n",
    "import modrec.training\n",
    "dataset_name = '2016.10a'\n",
    "seed = 2016\n",
    "# models = ['vtcnn2', 'resnet18-outer', 'resnet18-gasf', 'resnet18-gadf']\n",
    "#'resnet18-mtf', 'resnet18-gasf', 'resnet18-gadf', 'vtcnn2'\n",
    "models = ['resnet18-outer-noisy']\n",
    "modrec.training.set_seed(seed)\n",
    "classes, data = modrec.radioml.load_numpy(os.path.join('../data/', dataset_name + '.h5')) \n",
    "train, validate, test = modrec.training.split_training(data, 0.5, 0.5)\n",
    "df = pd.DataFrame()\n",
    "df['ms'] = validate['ms']\n",
    "df['snr'] = validate['snr']\n",
    "\n",
    "for model_name in models:\n",
    "#     trainer = modrec.training.Trainer('../models', dataset_name, model_name, seed)   \n",
    "#     np.load(self.predictions_path)\n",
    "    df['ms_' + model_name] = list(np.argmax(np.load(\"/media/arrowhead/WD21/modrec/models/predictions/2016.10a/resnet18-noisy-outer/2016.npy\"), axis=1))\n",
    "\n",
    "def plot_confusion_matrix(fig, ax, cm, title='Confusion matrix', labels=[], grid=False, cmap=plt.cm.viridis):\n",
    "    # Assume colorbar was plotted last\n",
    "    if len(ax.images) > 0:\n",
    "        cb = ax.images[-1].colorbar   \n",
    "        cb.remove()\n",
    "\n",
    "    ax.clear()\n",
    "\n",
    "    image = ax.imshow(cm, interpolation='nearest', cmap=cmap, clim=(0,1))\n",
    "    cb = fig.colorbar(image)\n",
    "    \n",
    "    tick_marks = np.arange(len(labels))\n",
    "    if grid:\n",
    "        ax.grid(grid, color='w')\n",
    "    ax.set_xticks(tick_marks)\n",
    "    ax.set_xticklabels(labels, rotation=45)\n",
    "    ax.set_yticks(tick_marks)\n",
    "    ax.set_yticklabels(labels)\n",
    "\n",
    "    ax.set_ylabel('True label')\n",
    "    ax.set_xlabel('Predicted label')\n",
    "    ax.set_title(title)\n",
    "    \n",
    "    fig.tight_layout()\n",
    "\n",
    "def plot_confusion(fig, ax, df, model_name, snr=None):\n",
    "    if snr is not None:\n",
    "        plot_df = df[df.snr == snr]\n",
    "    else:\n",
    "        plot_df = df\n",
    "\n",
    "    confusion_matrix = pd.crosstab(plot_df.ms, plot_df['ms_' + model_name],\n",
    "                                   rownames=['actual'],\n",
    "                                   colnames=['predicted'])\n",
    "    correct = np.sum(np.diag(confusion_matrix.to_numpy()))\n",
    "    total = len(plot_df)\n",
    "    print(\"Accuracy: %g\" % (correct/total))\n",
    "\n",
    "    if snr is None:\n",
    "        title = None\n",
    "    else:\n",
    "        title = f\"Confusion Matrix (SNR={snr:g})\"\n",
    "\n",
    "    plot_confusion_matrix(fig, ax, confusion_matrix/confusion_matrix.sum(axis=1),\n",
    "                          title=title,\n",
    "                          labels=list(classes))\n",
    "\n",
    "def interactive_confusion_matrix():\n",
    "    fig, ax = plt.subplots()\n",
    "\n",
    "    snrs = sorted(df.snr.unique())\n",
    "\n",
    "    def f(i, model_name):\n",
    "        if len(ax.images) != 0:\n",
    "            cb = ax.images[-1].colorbar\n",
    "            cb.remove()\n",
    "\n",
    "        ax.clear()\n",
    "        \n",
    "        plot_confusion(fig, ax, df, model_name, snr=snrs[i])\n",
    "\n",
    "    return interact(f, i=(0,len(snrs)-1), model_name=models)\n",
    "\n",
    "interactive_confusion_matrix()\n"
   ]
  },
  {
   "cell_type": "code",
   "execution_count": 15,
   "metadata": {},
   "outputs": [
    {
     "data": {
      "application/vnd.jupyter.widget-view+json": {
       "model_id": "3e8d0d19cdf84eedb1da34736e82ae46",
       "version_major": 2,
       "version_minor": 0
      },
      "text/plain": [
       "Canvas(toolbar=Toolbar(toolitems=[('Home', 'Reset original view', 'home', 'home'), ('Back', 'Back to previous …"
      ]
     },
     "metadata": {},
     "output_type": "display_data"
    },
    {
     "name": "stdout",
     "output_type": "stream",
     "text": [
      "OUT+OUT+OUT with noise accuracy: 0.158482\n"
     ]
    }
   ],
   "source": [
    "def compute_accuracy(df, model_name):\n",
    "    df['correct'] = df.ms == df['ms_' + model_name]\n",
    "    df_accuracy = df.groupby('snr')['correct'].aggregate(['count', 'sum'])\n",
    "    return (df.correct.sum()/df.correct.count(), df_accuracy['sum'] / df_accuracy['count'])\n",
    "\n",
    "LABELS = { 'vtcnn2': 'CNN2 Dropout 0.5',\n",
    "         'resnet18-outer': 'OUT+OUT+OUT'\n",
    "         , 'resnet18-gasf': 'GASF+OUT+OUT'\n",
    "         , 'resnet18-gadf': 'GADF+OUT+OUT'\n",
    "          , 'resnet18-mtf' : 'MTF+OUT+OUT'\n",
    "          , 'resnet18-noisy-outer': 'OUT+OUT+OUT with noise'\n",
    "         }\n",
    "\n",
    "snrs = sorted(df.snr.unique())\n",
    "\n",
    "fig, ax = plt.subplots()\n",
    "\n",
    "fig.suptitle(\"Classification Accuracy on RadioML\" + dataset_name)\n",
    "\n",
    "for model_name in models:\n",
    "    accuracy, per_snr_accuracy = compute_accuracy(df, model_name)\n",
    "\n",
    "    ax.plot(snrs, per_snr_accuracy, marker='.', label=LABELS[model_name], linewidth=1)\n",
    "    \n",
    "    ax.set_xlabel(\"Signal to Noise Ratio\")\n",
    "    ax.set_ylim(0,1)\n",
    "    ax.set_ylabel(\"Classification Accuracy\")\n",
    "    ax.legend()\n",
    "    plt.savefig(\"noisy.png\")\n",
    "\n",
    "    print('%s accuracy: %g' % (LABELS[model_name], accuracy))"
   ]
  },
  {
   "cell_type": "code",
   "execution_count": null,
   "metadata": {},
   "outputs": [],
   "source": []
  },
  {
   "cell_type": "code",
   "execution_count": null,
   "metadata": {},
   "outputs": [],
   "source": []
  }
 ],
 "metadata": {
  "kernelspec": {
   "display_name": "tf2",
   "language": "python",
   "name": "tf2"
  },
  "language_info": {
   "codemirror_mode": {
    "name": "ipython",
    "version": 3
   },
   "file_extension": ".py",
   "mimetype": "text/x-python",
   "name": "python",
   "nbconvert_exporter": "python",
   "pygments_lexer": "ipython3",
   "version": "3.8.5"
  }
 },
 "nbformat": 4,
 "nbformat_minor": 2
}
