{
 "cells": [
  {
   "cell_type": "code",
   "execution_count": 19,
   "metadata": {},
   "outputs": [
    {
     "data": {
      "text/plain": [
       "True"
      ]
     },
     "execution_count": 19,
     "metadata": {},
     "output_type": "execute_result"
    }
   ],
   "source": [
    "tr_labels = np.load(\"/home/arrowhead/dataset_2018/test/labels.npy\")\n",
    "all_labels = list()\n",
    "for i in range(len(tr_labels)):\n",
    "    idx = np.where(tr_labels[i]==1)[0][0]\n",
    "    all_labels.append(classes[idx])\n",
    "len(all_labels)==tr_labels.shape[0]"
   ]
  },
  {
   "cell_type": "code",
   "execution_count": 24,
   "metadata": {},
   "outputs": [
    {
     "data": {
      "text/plain": [
       "6"
      ]
     },
     "execution_count": 24,
     "metadata": {},
     "output_type": "execute_result"
    }
   ],
   "source": [
    "tr_snrs = np.load(\"/home/arrowhead/dataset_2018/test/snrs.npy\")\n",
    "tr_snrs.shape[0]==tr_labels.shape[0]\n",
    "# print(np.unique(tr_snrs))\n",
    "tr_snrs[0]"
   ]
  }
 ],
 "metadata": {
  "kernelspec": {
   "display_name": "playground",
   "language": "python",
   "name": "playground"
  },
  "language_info": {
   "codemirror_mode": {
    "name": "ipython",
    "version": 3
   },
   "file_extension": ".py",
   "mimetype": "text/x-python",
   "name": "python",
   "nbconvert_exporter": "python",
   "pygments_lexer": "ipython3",
   "version": "3.8.2"
  }
 },
 "nbformat": 4,
 "nbformat_minor": 4
}
