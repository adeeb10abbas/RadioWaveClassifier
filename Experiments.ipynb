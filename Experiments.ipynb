{
 "cells": [
  {
   "cell_type": "code",
   "execution_count": null,
   "metadata": {},
   "outputs": [],
   "source": [
    "import pickle\n",
    "import numpy as np\n",
    "Xd = pickle.load(open(\"RML2016.10a_dict.pkl\",'rb'), encoding='latin1')\n",
    "print(len(Xd[list(Xd.keys())[0]]))\n",
    "snrs,mods = map(lambda j: sorted(list(set(map(lambda x: x[j], Xd.keys())))), [1,0])\n",
    "X = []  \n",
    "lbl = []\n",
    "for mod in mods:\n",
    "    for snr in snrs:\n",
    "        X.append(Xd[(mod,snr)])\n",
    "        for i in range(Xd[(mod,snr)].shape[0]):  lbl.append((mod,snr))\n",
    "X = np.vstack(X)\n",
    "#we have labels for each one of them woowoo\n",
    "#mods are all the classes are 11\n",
    "X.shape\n",
    "len(list(lbl))\n",
    "mods"
   ]
  },
  {
   "cell_type": "code",
   "execution_count": null,
   "metadata": {},
   "outputs": [],
   "source": []
  },
  {
   "cell_type": "code",
   "execution_count": null,
   "metadata": {},
   "outputs": [],
   "source": []
  },
  {
   "cell_type": "code",
   "execution_count": 2,
   "metadata": {},
   "outputs": [
    {
     "data": {
      "text/plain": [
       "(110000, 2, 128)"
      ]
     },
     "execution_count": 2,
     "metadata": {},
     "output_type": "execute_result"
    }
   ],
   "source": [
    "np.random.seed(2016)\n",
    "n_examples = X.shape[0]\n",
    "n_train = int(n_examples * 0.5) #half the dataset is for training\n",
    "train_idx = np.random.choice(range(0,n_examples), size=n_train, replace=False) \n",
    "#\"replace\" makes sure that everything is unique\n",
    "test_idx = list(set(range(0,n_examples))-set(train_idx))\n",
    "X_train = X[train_idx]\n",
    "X_test =  X[test_idx]\n",
    "X_train.shape"
   ]
  },
  {
   "cell_type": "code",
   "execution_count": null,
   "metadata": {},
   "outputs": [],
   "source": []
  },
  {
   "cell_type": "code",
   "execution_count": 3,
   "metadata": {},
   "outputs": [
    {
     "name": "stdout",
     "output_type": "stream",
     "text": [
      "/home/adeebabbas/Desktop/radio/RML2016.10a\n"
     ]
    },
    {
     "ename": "FileExistsError",
     "evalue": "[Errno 17] File exists: '/home/adeebabbas/Desktop/radio/RML2016.10a/dataset/8PSK/GADF'",
     "output_type": "error",
     "traceback": [
      "\u001b[0;31m---------------------------------------------------------------------------\u001b[0m",
      "\u001b[0;31mFileExistsError\u001b[0m                           Traceback (most recent call last)",
      "\u001b[0;32m<ipython-input-3-ecf84c4eeca9>\u001b[0m in \u001b[0;36m<module>\u001b[0;34m\u001b[0m\n\u001b[1;32m      6\u001b[0m \u001b[0;32mfor\u001b[0m \u001b[0mi\u001b[0m \u001b[0;32min\u001b[0m \u001b[0mmods\u001b[0m\u001b[0;34m:\u001b[0m\u001b[0;34m\u001b[0m\u001b[0;34m\u001b[0m\u001b[0m\n\u001b[1;32m      7\u001b[0m     \u001b[0mnew_dirs\u001b[0m \u001b[0;34m=\u001b[0m \u001b[0mpath\u001b[0m \u001b[0;34m+\u001b[0m \u001b[0mstr\u001b[0m\u001b[0;34m(\u001b[0m\u001b[0mi\u001b[0m\u001b[0;34m)\u001b[0m \u001b[0;34m+\u001b[0m \u001b[0;34m\"/GADF\"\u001b[0m\u001b[0;34m\u001b[0m\u001b[0;34m\u001b[0m\u001b[0m\n\u001b[0;32m----> 8\u001b[0;31m     \u001b[0mos\u001b[0m\u001b[0;34m.\u001b[0m\u001b[0mmkdir\u001b[0m\u001b[0;34m(\u001b[0m\u001b[0mnew_dirs\u001b[0m\u001b[0;34m)\u001b[0m\u001b[0;34m\u001b[0m\u001b[0;34m\u001b[0m\u001b[0m\n\u001b[0m\u001b[1;32m      9\u001b[0m     \u001b[0mnew_dirs\u001b[0m \u001b[0;34m=\u001b[0m \u001b[0mpath\u001b[0m \u001b[0;34m+\u001b[0m \u001b[0mstr\u001b[0m\u001b[0;34m(\u001b[0m\u001b[0mi\u001b[0m\u001b[0;34m)\u001b[0m \u001b[0;34m+\u001b[0m \u001b[0;34m\"/GASF\"\u001b[0m\u001b[0;34m\u001b[0m\u001b[0;34m\u001b[0m\u001b[0m\n\u001b[1;32m     10\u001b[0m     \u001b[0mos\u001b[0m\u001b[0;34m.\u001b[0m\u001b[0mmkdir\u001b[0m\u001b[0;34m(\u001b[0m\u001b[0mnew_dirs\u001b[0m\u001b[0;34m)\u001b[0m\u001b[0;34m\u001b[0m\u001b[0;34m\u001b[0m\u001b[0m\n",
      "\u001b[0;31mFileExistsError\u001b[0m: [Errno 17] File exists: '/home/adeebabbas/Desktop/radio/RML2016.10a/dataset/8PSK/GADF'"
     ]
    }
   ],
   "source": [
    "#making all the dataset directories\n",
    "import os\n",
    "print(os.getcwd())\n",
    "path = os.getcwd() + str('/dataset/')\n",
    "os.mkdir(path)\n",
    "for i in mods:\n",
    "    new_dirs = path + str(i) + \"/GADF\"\n",
    "    os.mkdir(new_dirs)\n",
    "    new_dirs = path + str(i) + \"/GASF\"\n",
    "    os.mkdir(new_dirs)\n",
    "    "
   ]
  },
  {
   "cell_type": "code",
   "execution_count": null,
   "metadata": {},
   "outputs": [],
   "source": []
  },
  {
   "cell_type": "code",
   "execution_count": 1,
   "metadata": {},
   "outputs": [
    {
     "ename": "NameError",
     "evalue": "name 'test_idx' is not defined",
     "output_type": "error",
     "traceback": [
      "\u001b[0;31m---------------------------------------------------------------------------\u001b[0m",
      "\u001b[0;31mNameError\u001b[0m                                 Traceback (most recent call last)",
      "\u001b[0;32m<ipython-input-1-012d42022c58>\u001b[0m in \u001b[0;36m<module>\u001b[0;34m\u001b[0m\n\u001b[1;32m      4\u001b[0m     \u001b[0;32mreturn\u001b[0m \u001b[0myy1\u001b[0m\u001b[0;34m\u001b[0m\u001b[0;34m\u001b[0m\u001b[0m\n\u001b[1;32m      5\u001b[0m \u001b[0;31m# Y_train = to_onehot(map(lambda x: mods.index(lbl[x][0]), train_idx))\u001b[0m\u001b[0;34m\u001b[0m\u001b[0;34m\u001b[0m\u001b[0;34m\u001b[0m\u001b[0m\n\u001b[0;32m----> 6\u001b[0;31m \u001b[0mY_test_\u001b[0m \u001b[0;34m=\u001b[0m \u001b[0mmap\u001b[0m\u001b[0;34m(\u001b[0m\u001b[0;32mlambda\u001b[0m \u001b[0mx\u001b[0m\u001b[0;34m:\u001b[0m \u001b[0mmods\u001b[0m\u001b[0;34m.\u001b[0m\u001b[0mindex\u001b[0m\u001b[0;34m(\u001b[0m\u001b[0mlbl\u001b[0m\u001b[0;34m[\u001b[0m\u001b[0mx\u001b[0m\u001b[0;34m]\u001b[0m\u001b[0;34m[\u001b[0m\u001b[0;36m0\u001b[0m\u001b[0;34m]\u001b[0m\u001b[0;34m)\u001b[0m\u001b[0;34m,\u001b[0m \u001b[0mtest_idx\u001b[0m\u001b[0;34m)\u001b[0m\u001b[0;34m\u001b[0m\u001b[0;34m\u001b[0m\u001b[0m\n\u001b[0m\u001b[1;32m      7\u001b[0m \u001b[0mY_train_\u001b[0m \u001b[0;34m=\u001b[0m \u001b[0mmap\u001b[0m\u001b[0;34m(\u001b[0m\u001b[0;32mlambda\u001b[0m \u001b[0mx\u001b[0m\u001b[0;34m:\u001b[0m \u001b[0mmods\u001b[0m\u001b[0;34m.\u001b[0m\u001b[0mindex\u001b[0m\u001b[0;34m(\u001b[0m\u001b[0mlbl\u001b[0m\u001b[0;34m[\u001b[0m\u001b[0mx\u001b[0m\u001b[0;34m]\u001b[0m\u001b[0;34m[\u001b[0m\u001b[0;36m0\u001b[0m\u001b[0;34m]\u001b[0m\u001b[0;34m)\u001b[0m\u001b[0;34m,\u001b[0m \u001b[0mtrain_idx\u001b[0m\u001b[0;34m)\u001b[0m\u001b[0;34m\u001b[0m\u001b[0;34m\u001b[0m\u001b[0m\n\u001b[1;32m      8\u001b[0m \u001b[0mj\u001b[0m \u001b[0;34m=\u001b[0m \u001b[0;36m0\u001b[0m\u001b[0;34m\u001b[0m\u001b[0;34m\u001b[0m\u001b[0m\n",
      "\u001b[0;31mNameError\u001b[0m: name 'test_idx' is not defined"
     ]
    }
   ],
   "source": [
    "def to_onehot(yy):\n",
    "    yy1 = np.zeros([len(list(yy)), max(list(yy))+1])\n",
    "    yy1[np.arange(len(list(yy))),yy] = 1\n",
    "    return yy1\n",
    "# Y_train = to_onehot(map(lambda x: mods.index(lbl[x][0]), train_idx))\n",
    "Y_test_ = map(lambda x: mods.index(lbl[x][0]), test_idx)\n",
    "Y_train_ = map(lambda x: mods.index(lbl[x][0]), train_idx)\n",
    "j = 0\n",
    "Y_train_list = list()\n",
    "Y_test_list = list()\n",
    "for i in Y_train_:\n",
    "    Y_train_list.append(i)\n",
    "for i in Y_test_:\n",
    "    Y_test_list.append(j)\n",
    "    \n",
    "Y_train = to_onehot(Y_train_list)\n",
    "Y_test = to_onehot(Y_test_list)\n",
    "# Y_test is 11k\n",
    "# Y_train is also 11k wondering why? look the second cell from top\n"
   ]
  },
  {
   "cell_type": "code",
   "execution_count": 5,
   "metadata": {},
   "outputs": [
    {
     "name": "stdout",
     "output_type": "stream",
     "text": [
      "(110000, 2, 128) [2, 128]\n"
     ]
    },
    {
     "data": {
      "text/plain": [
       "11"
      ]
     },
     "execution_count": 5,
     "metadata": {},
     "output_type": "execute_result"
    }
   ],
   "source": [
    "in_shp = list(X_train.shape[1:])\n",
    "print (X_train.shape, in_shp)\n",
    "classes = mods\n",
    "len(classes)"
   ]
  },
  {
   "cell_type": "code",
   "execution_count": 5,
   "metadata": {},
   "outputs": [],
   "source": [
    "\n",
    "# for i in classes:\n",
    "#     path = os.path.join(os.getcwd())\n",
    "#     os.makedirs(\"%s/dataset_gaf/%s\"%(path, i))"
   ]
  },
  {
   "cell_type": "code",
   "execution_count": 12,
   "metadata": {},
   "outputs": [
    {
     "name": "stdout",
     "output_type": "stream",
     "text": [
      "Mission has started\n"
     ]
    },
    {
     "ename": "TypeError",
     "evalue": "'module' object is not callable",
     "output_type": "error",
     "traceback": [
      "\u001b[0;31m---------------------------------------------------------------------------\u001b[0m",
      "\u001b[0;31mTypeError\u001b[0m                                 Traceback (most recent call last)",
      "\u001b[0;32m<ipython-input-12-3c13c7687332>\u001b[0m in \u001b[0;36m<module>\u001b[0;34m\u001b[0m\n\u001b[1;32m     68\u001b[0m         \u001b[0mprint\u001b[0m\u001b[0;34m(\u001b[0m\u001b[0mepoch_len\u001b[0m\u001b[0;34m)\u001b[0m\u001b[0;34m\u001b[0m\u001b[0;34m\u001b[0m\u001b[0m\n\u001b[1;32m     69\u001b[0m \u001b[0;34m\u001b[0m\u001b[0m\n\u001b[0;32m---> 70\u001b[0;31m \u001b[0mmain\u001b[0m\u001b[0;34m(\u001b[0m\u001b[0;34m)\u001b[0m\u001b[0;34m\u001b[0m\u001b[0;34m\u001b[0m\u001b[0m\n\u001b[0m\u001b[1;32m     71\u001b[0m \u001b[0;34m\u001b[0m\u001b[0m\n\u001b[1;32m     72\u001b[0m \u001b[0;34m\u001b[0m\u001b[0m\n",
      "\u001b[0;32m<ipython-input-12-3c13c7687332>\u001b[0m in \u001b[0;36mmain\u001b[0;34m()\u001b[0m\n\u001b[1;32m     58\u001b[0m     \u001b[0mepoch_len\u001b[0m \u001b[0;34m=\u001b[0m \u001b[0;36m5000\u001b[0m\u001b[0;34m\u001b[0m\u001b[0;34m\u001b[0m\u001b[0m\n\u001b[1;32m     59\u001b[0m     \u001b[0mprint\u001b[0m\u001b[0;34m(\u001b[0m\u001b[0;34m\"Mission has started\"\u001b[0m\u001b[0;34m)\u001b[0m\u001b[0;34m\u001b[0m\u001b[0;34m\u001b[0m\u001b[0m\n\u001b[0;32m---> 60\u001b[0;31m     \u001b[0;32mfor\u001b[0m \u001b[0mi\u001b[0m \u001b[0;32min\u001b[0m \u001b[0mtqdm\u001b[0m\u001b[0;34m(\u001b[0m\u001b[0mrange\u001b[0m\u001b[0;34m(\u001b[0m\u001b[0;36m44\u001b[0m\u001b[0;34m)\u001b[0m\u001b[0;34m)\u001b[0m\u001b[0;34m:\u001b[0m\u001b[0;34m\u001b[0m\u001b[0;34m\u001b[0m\u001b[0m\n\u001b[0m\u001b[1;32m     61\u001b[0m         \u001b[0mdone\u001b[0m \u001b[0;34m=\u001b[0m \u001b[0;34m(\u001b[0m\u001b[0mi\u001b[0m\u001b[0;34m/\u001b[0m\u001b[0;36m44\u001b[0m\u001b[0;34m)\u001b[0m\u001b[0;34m*\u001b[0m\u001b[0;36m100\u001b[0m\u001b[0;34m\u001b[0m\u001b[0;34m\u001b[0m\u001b[0m\n\u001b[1;32m     62\u001b[0m         \u001b[0mdataset_creator\u001b[0m\u001b[0;34m(\u001b[0m\u001b[0mstart\u001b[0m\u001b[0;34m,\u001b[0m \u001b[0mepoch_len\u001b[0m\u001b[0;34m+\u001b[0m\u001b[0;36m1\u001b[0m\u001b[0;34m,\u001b[0m\u001b[0mlbl\u001b[0m\u001b[0;34m,\u001b[0m \u001b[0mX\u001b[0m\u001b[0;34m)\u001b[0m\u001b[0;34m\u001b[0m\u001b[0;34m\u001b[0m\u001b[0m\n",
      "\u001b[0;31mTypeError\u001b[0m: 'module' object is not callable"
     ]
    }
   ],
   "source": [
    "# Trying to plot the graphs... lets see what happens\n",
    "#creating all the different data categories\n",
    "\n",
    "\n",
    "# t = []\n",
    "# for i in range(128):\n",
    "#     t.append(i)\n",
    "signals = X\n",
    "%matplotlib inline\n",
    "from fastai import *\n",
    "from fastai.vision import *\n",
    "from tqdm import tqdm\n",
    "import numpy as np\n",
    "import matplotlib.pyplot as plt\n",
    "from pyts.image import GASF, GADF\n",
    "import os\n",
    "import gc\n",
    "import tqdm\n",
    "import matplotlib.pyplot as plt\n",
    "#we need a function to keep adding images to the specific \n",
    "plt.ioff()\n",
    "def dataset_creator(start, epoch_len, lbl, X):\n",
    "    for j in range(start, epoch_len):#len(X))): #len(X) == 220000\n",
    "        wave_type = lbl[j][0]\n",
    "    #     first = signals[j][:][0]\n",
    "    #     second = signals[j][:][1]\n",
    "        values = signals[j][:]\n",
    "        image_size = 36\n",
    "        gasf = GASF(image_size)\n",
    "        X_gasf = gasf.fit_transform(values)\n",
    "        gadf = GADF(image_size)\n",
    "        X_gadf = gadf.fit_transform(values)\n",
    "        plt.figure(figsize=(12, 12))\n",
    "        plt.xticks([])\n",
    "        plt.yticks([])\n",
    "        plt.tight_layout()\n",
    "        wave_id = \"%s_%d\"%(wave_type, j) \n",
    "        fig = plt.imshow(X_gasf[0], cmap='rainbow', origin='lower')\n",
    "        fig.figure.savefig(\"%s/dataset_gaf/%s/GASF/%s.png\"%(path, lbl[j][0], wave_id), bbox_inches = 'tight')\n",
    "        \n",
    "        fig1 = plt.imshow(X_gadf[0], cmap='rainbow', origin='lower')\n",
    "        fig1.figure.savefig(\"%s/dataset_gaf/%s/GADF/%s.png\"%(path, lbl[j][0], wave_id), bbox_inches = 'tight')\n",
    "        \n",
    "        \n",
    "        \n",
    "        # Clear the current axes.\n",
    "        plt.cla() \n",
    "        # Clear the current figure.\n",
    "        plt.clf() \n",
    "        # Closes all the figure windows.\n",
    "        plt.close('all')\n",
    "        gc.collect()\n",
    "        \n",
    "\n",
    "def main():\n",
    "    #we need to go through 36\n",
    "    start = 0\n",
    "    epoch_len = 5000\n",
    "    print(\"Mission has started\")\n",
    "    for i in tqdm(range(44)):\n",
    "        done = (i/44)*100\n",
    "        dataset_creator(start, epoch_len+1,lbl, X)\n",
    "        start += 5000\n",
    "        epoch_len += start+5000\n",
    "        gc.collect()\n",
    "        print(\"Epoch number - GASF dataset %d | Percentage done- %d\"%(i, done))\n",
    "        print(\"\")\n",
    "        print(epoch_len)\n",
    "        \n",
    "main()\n",
    "        \n",
    "\n",
    "\n",
    "    "
   ]
  },
  {
   "cell_type": "code",
   "execution_count": 2,
   "metadata": {},
   "outputs": [],
   "source": [
    "    #plt.title(\"%s - GASF\"%wave_type, fontsize=16)\n",
    "#     plt.subplot(122)\n",
    "#     plt.imshow(X_gadf[0], cmap='rainbow', origin='lower')\n",
    "#     plt.title(\"%s - GADF\"%wave_type, fontsize=16)\n",
    "#     plt.show()\n",
    "\n",
    "\n",
    "\n",
    "    #path = os.path.join(os.getcwd(), wave_type)\n",
    "#   os.makedirs(path)\n",
    "\n",
    "#     plt.plot(t, first/second)\n",
    "#     plt.plot(t, second)\n",
    "#     wave_type = lbl[j][0] #Dumbass of course it stops after a while you only have a certain \n",
    "#     as it is not what you thought it was. We need a class for all of them\n",
    "#     title = wave_type\n",
    "#     plt.title(title)\n",
    "#     xmax = 128\n",
    "#     ymax = max([max(first),max(second)])\n",
    "#     plt.xticks([])\n",
    "#     plt.yticks([])\n",
    "#     plt.show()\n",
    "        #plt.imshow(X_gadf[0], cmap='rainbow', origin='lower')\n",
    "        #plt.savefig(\"%s/dataset_gaf/%s/GADF/%s.png\"%(path, lbl[j][0], wave_id), bbox_inches = 'tight') \n",
    "    #     plt.close()"
   ]
  },
  {
   "cell_type": "code",
   "execution_count": 5,
   "metadata": {},
   "outputs": [],
   "source": []
  },
  {
   "cell_type": "code",
   "execution_count": 14,
   "metadata": {},
   "outputs": [
    {
     "ename": "ImportError",
     "evalue": "cannot import name 'GASF'",
     "output_type": "error",
     "traceback": [
      "\u001b[0;31m---------------------------------------------------------------------------\u001b[0m",
      "\u001b[0;31mImportError\u001b[0m                               Traceback (most recent call last)",
      "\u001b[0;32m<ipython-input-14-089ac438ec25>\u001b[0m in \u001b[0;36m<module>\u001b[0;34m\u001b[0m\n\u001b[1;32m      3\u001b[0m \u001b[0;32mimport\u001b[0m \u001b[0mnumpy\u001b[0m \u001b[0;32mas\u001b[0m \u001b[0mnp\u001b[0m\u001b[0;34m\u001b[0m\u001b[0;34m\u001b[0m\u001b[0m\n\u001b[1;32m      4\u001b[0m \u001b[0;32mimport\u001b[0m \u001b[0mmatplotlib\u001b[0m\u001b[0;34m.\u001b[0m\u001b[0mpyplot\u001b[0m \u001b[0;32mas\u001b[0m \u001b[0mplt\u001b[0m\u001b[0;34m\u001b[0m\u001b[0;34m\u001b[0m\u001b[0m\n\u001b[0;32m----> 5\u001b[0;31m \u001b[0;32mfrom\u001b[0m \u001b[0mpyts\u001b[0m\u001b[0;34m.\u001b[0m\u001b[0mimage\u001b[0m \u001b[0;32mimport\u001b[0m \u001b[0mGASF\u001b[0m\u001b[0;34m,\u001b[0m \u001b[0mGADF\u001b[0m\u001b[0;34m\u001b[0m\u001b[0;34m\u001b[0m\u001b[0m\n\u001b[0m\u001b[1;32m      6\u001b[0m \u001b[0;32mimport\u001b[0m \u001b[0mos\u001b[0m\u001b[0;34m\u001b[0m\u001b[0;34m\u001b[0m\u001b[0m\n\u001b[1;32m      7\u001b[0m \u001b[0mplt\u001b[0m\u001b[0;34m.\u001b[0m\u001b[0mioff\u001b[0m\u001b[0;34m(\u001b[0m\u001b[0;34m)\u001b[0m\u001b[0;34m\u001b[0m\u001b[0;34m\u001b[0m\u001b[0m\n",
      "\u001b[0;31mImportError\u001b[0m: cannot import name 'GASF'"
     ]
    }
   ],
   "source": [
    "%matplotlib inline\n",
    "import multiprocessing\n",
    "import numpy as np\n",
    "import matplotlib.pyplot as plt\n",
    "from pyts.image import GASF, GADF\n",
    "import os\n",
    "plt.ioff()\n",
    "path = os.path.join(os.getcwd())\n",
    "signals = X\n",
    "\n",
    "# for j in tqdm(range(len(X))):\n",
    "    \n",
    "#     wave_type = lbl[j][0]\n",
    "#     values = signals[j][:]\n",
    "#     image_size = 36\n",
    "#     gasf = GASF(image_size)\n",
    "#     X_gasf = gasf.fit_transform(values)\n",
    "#     gadf = GADF(image_size)\n",
    "#     X_gadf = gadf.fit_transform(values)\n",
    "#     plt.figure(figsize=(12, 12))\n",
    "#     plt.xticks([])\n",
    "#     plt.yticks([])\n",
    "#     plt.axis('off')\n",
    "#     plt.tight_layout()\n",
    "#     wave_id = \"%s_%d\"%(wave_type, j) \n",
    "#     fig = plt.imshow(X_gasf[0], cmap='rainbow', origin='lower')\n",
    "#     fig.figure.savefig(\"%s/dataset/%s/GASF/%s.png\"%(path, wave_type, wave_id), bbox_inches = 'tight', pad_inches = 0)\n",
    "#     fig1 = plt.imshow(X_gadf[0], cmap='rainbow', origin='lower')\n",
    "#     fig.figure.savefig(\"%s/dataset/%s/GADF/%s.png\"%(path, wave_type, wave_id), bbox_inches = 'tight', pad_inches = 0)\n",
    "#         # Clear the current axes.\n",
    "#     plt.cla() \n",
    "#         # Clear the current figure.\n",
    "#     plt.clf() \n",
    "#         # Closes all the figure windows.\n",
    "#     plt.close('all')\n",
    "#     gc.collect()\n",
    "def dataset_creation(j):\n",
    "    wave_type = lbl[j][0]\n",
    "    values = signals[j][:]\n",
    "    image_size = 36\n",
    "    gasf = GASF(image_size)\n",
    "    X_gasf = gasf.fit_transform(values)\n",
    "    gadf = GADF(image_size)\n",
    "    X_gadf = gadf.fit_transform(values)\n",
    "    plt.figure(figsize=(12, 12))\n",
    "    plt.xticks([])\n",
    "    plt.yticks([])\n",
    "    plt.axis('off')\n",
    "    plt.tight_layout()\n",
    "    wave_id = \"%s_%d\"%(wave_type, j) \n",
    "    fig = plt.imshow(X_gasf[0], cmap='rainbow', origin='lower')\n",
    "    fig.figure.savefig(\"%s/dataset/%s/GASF/%s.png\"%(path, wave_type, wave_id), bbox_inches = 'tight', pad_inches = 0)\n",
    "    fig1 = plt.imshow(X_gadf[0], cmap='rainbow', origin='lower')\n",
    "    fig.figure.savefig(\"%s/dataset/%s/GADF/%s.png\"%(path, wave_type, wave_id), bbox_inches = 'tight', pad_inches = 0)\n",
    "        # Clear the current axes.\n",
    "    plt.cla() \n",
    "        # Clear the current figure.\n",
    "    plt.clf() \n",
    "        # Closes all the figure windows.\n",
    "    plt.close('all')\n",
    "    gc.collect()\n",
    "def main():\n",
    "    starttime = time.time()\n",
    "    pool = multiprocessing.Pool()\n",
    "    pool.map(dataset_creation, tqdm(range(len(X))))\n",
    "    pool.close()\n",
    "    print('That took {} seconds'.format(time.time() - starttime))\n",
    "    \n",
    "main()\n",
    "    \n",
    "    \n",
    "    \n"
   ]
  },
  {
   "cell_type": "code",
   "execution_count": 6,
   "metadata": {},
   "outputs": [
    {
     "name": "stdout",
     "output_type": "stream",
     "text": [
      "./dataset/CPFSK\n",
      "./dataset/PAM4\n",
      "./dataset/QAM16\n",
      "./dataset/AM-DSB\n",
      "./dataset/BPSK\n",
      "./dataset/GFSK\n",
      "./dataset/AM-SSB\n",
      "./dataset/QAM64\n",
      "./dataset/WBFM\n",
      "./dataset/QPSK\n",
      "./dataset/8PSK\n"
     ]
    }
   ],
   "source": [
    "import os\n",
    "import sys\n",
    "path = './dataset/'\n",
    " \n",
    "if len(sys.argv) == 2:\n",
    "    path = sys.argv[1]\n",
    " \n",
    " \n",
    "files = os.listdir(path)\n",
    "for name in files:\n",
    "    print(path+name)\n",
    "    # and then in each of them we have GADF and GASF\n",
    "    \n",
    " "
   ]
  },
  {
   "cell_type": "code",
   "execution_count": null,
   "metadata": {},
   "outputs": [],
   "source": []
  }
 ],
 "metadata": {
  "kernelspec": {
   "display_name": "Python 3",
   "language": "python",
   "name": "python3"
  },
  "language_info": {
   "codemirror_mode": {
    "name": "ipython",
    "version": 3
   },
   "file_extension": ".py",
   "mimetype": "text/x-python",
   "name": "python",
   "nbconvert_exporter": "python",
   "pygments_lexer": "ipython3",
   "version": "3.6.9"
  }
 },
 "nbformat": 4,
 "nbformat_minor": 4
}